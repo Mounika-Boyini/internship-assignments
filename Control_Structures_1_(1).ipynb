{
  "nbformat": 4,
  "nbformat_minor": 0,
  "metadata": {
    "colab": {
      "provenance": []
    },
    "kernelspec": {
      "name": "python3",
      "display_name": "Python 3"
    },
    "language_info": {
      "name": "python"
    }
  },
  "cells": [
    {
      "cell_type": "markdown",
      "source": [
        "** USE THE CONCEPT OF LOOP TO SOLVE TEHE BELOW QUIRIES **"
      ],
      "metadata": {
        "id": "-j3jwvf4Nex8"
      }
    },
    {
      "cell_type": "markdown",
      "source": [
        "  1) Print the first 10 natural numbers using for loop."
      ],
      "metadata": {
        "id": "e5fJbKobMfrV"
      }
    },
    {
      "cell_type": "code",
      "source": [
        "for i in  range(1,11):\n",
        "  print(i)"
      ],
      "metadata": {
        "id": "dvVRbCfHMiM2",
        "colab": {
          "base_uri": "https://localhost:8080/"
        },
        "outputId": "a8430160-44cb-43dc-c687-48ca59d59b7e"
      },
      "execution_count": 1,
      "outputs": [
        {
          "output_type": "stream",
          "name": "stdout",
          "text": [
            "1\n",
            "2\n",
            "3\n",
            "4\n",
            "5\n",
            "6\n",
            "7\n",
            "8\n",
            "9\n",
            "10\n"
          ]
        }
      ]
    },
    {
      "cell_type": "code",
      "source": [],
      "metadata": {
        "id": "rEg4ZVZiM1nb"
      },
      "execution_count": 3,
      "outputs": []
    },
    {
      "cell_type": "markdown",
      "source": [
        "2) Python program to print all the even numbers within the given range.\n",
        "\n",
        "Range = 0 to 100"
      ],
      "metadata": {
        "id": "z6Z_rllrM3EW"
      }
    },
    {
      "cell_type": "code",
      "source": [
        "for i in range(0, 101, 2):\n",
        "  print(i)"
      ],
      "metadata": {
        "id": "iu86kKj8MwAr",
        "colab": {
          "base_uri": "https://localhost:8080/"
        },
        "outputId": "8b7f5804-4efb-4a8b-e16e-3ac666e8d4d7"
      },
      "execution_count": 3,
      "outputs": [
        {
          "output_type": "stream",
          "name": "stdout",
          "text": [
            "0\n",
            "2\n",
            "4\n",
            "6\n",
            "8\n",
            "10\n",
            "12\n",
            "14\n",
            "16\n",
            "18\n",
            "20\n",
            "22\n",
            "24\n",
            "26\n",
            "28\n",
            "30\n",
            "32\n",
            "34\n",
            "36\n",
            "38\n",
            "40\n",
            "42\n",
            "44\n",
            "46\n",
            "48\n",
            "50\n",
            "52\n",
            "54\n",
            "56\n",
            "58\n",
            "60\n",
            "62\n",
            "64\n",
            "66\n",
            "68\n",
            "70\n",
            "72\n",
            "74\n",
            "76\n",
            "78\n",
            "80\n",
            "82\n",
            "84\n",
            "86\n",
            "88\n",
            "90\n",
            "92\n",
            "94\n",
            "96\n",
            "98\n",
            "100\n"
          ]
        }
      ]
    },
    {
      "cell_type": "markdown",
      "source": [
        "3) Python program to calculate the sum of all numbers from 1 to a given number.\n",
        "\n",
        "Given Range = 15"
      ],
      "metadata": {
        "id": "8d-LECSINC6s"
      }
    },
    {
      "cell_type": "code",
      "source": [
        "sum = 0\n",
        "for i in range(1, 16):\n",
        "  sum += i\n",
        "print(sum)"
      ],
      "metadata": {
        "id": "bBd7nbLLNSoA",
        "colab": {
          "base_uri": "https://localhost:8080/"
        },
        "outputId": "dec9a685-81a6-470b-fb33-85c7c13c05c2"
      },
      "execution_count": 4,
      "outputs": [
        {
          "output_type": "stream",
          "name": "stdout",
          "text": [
            "120\n"
          ]
        }
      ]
    },
    {
      "cell_type": "markdown",
      "source": [
        "4) Python program to calculate the sum of all the odd numbers within the given range.\n",
        "\n",
        "Given Range = 10"
      ],
      "metadata": {
        "id": "nKJA-USXNRsk"
      }
    },
    {
      "cell_type": "code",
      "source": [
        "sum = 0\n",
        "for i in range(1,11):\n",
        "  if i%2 != 0:\n",
        "    sum += i\n",
        "print(sum)"
      ],
      "metadata": {
        "id": "Q520Z2gXNwMV",
        "colab": {
          "base_uri": "https://localhost:8080/"
        },
        "outputId": "7bdce820-708c-4bf4-960e-716d225d3113"
      },
      "execution_count": 5,
      "outputs": [
        {
          "output_type": "stream",
          "name": "stdout",
          "text": [
            "25\n"
          ]
        }
      ]
    },
    {
      "cell_type": "markdown",
      "source": [
        "5) Python program to print a multiplication table of a given number\n",
        "\n",
        "given number = 5"
      ],
      "metadata": {
        "id": "uTwmyMFiNEM8"
      }
    },
    {
      "cell_type": "code",
      "source": [
        "n = 5\n",
        "for i in range(1,11):\n",
        "  print(n, \"x\", i, \"=\", n*i)"
      ],
      "metadata": {
        "id": "ZlLy8g2kN6F7",
        "colab": {
          "base_uri": "https://localhost:8080/"
        },
        "outputId": "fc049b40-2438-4195-af46-1b7d479bcd91"
      },
      "execution_count": 6,
      "outputs": [
        {
          "output_type": "stream",
          "name": "stdout",
          "text": [
            "5 x 1 = 5\n",
            "5 x 2 = 10\n",
            "5 x 3 = 15\n",
            "5 x 4 = 20\n",
            "5 x 5 = 25\n",
            "5 x 6 = 30\n",
            "5 x 7 = 35\n",
            "5 x 8 = 40\n",
            "5 x 9 = 45\n",
            "5 x 10 = 50\n"
          ]
        }
      ]
    },
    {
      "cell_type": "code",
      "source": [],
      "metadata": {
        "id": "vBo-jPU6oVri"
      },
      "execution_count": null,
      "outputs": []
    }
  ]
}